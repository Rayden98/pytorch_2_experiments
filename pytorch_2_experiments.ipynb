{
  "nbformat": 4,
  "nbformat_minor": 0,
  "metadata": {
    "colab": {
      "provenance": [],
      "gpuType": "T4"
    },
    "kernelspec": {
      "name": "python3",
      "display_name": "Python 3"
    },
    "language_info": {
      "name": "python"
    },
    "accelerator": "GPU"
  },
  "cells": [
    {
      "cell_type": "markdown",
      "source": [
        "# PyTorch 2 Quick Intro\n",
        "\n",
        "* Reference notebook - https://github.com/mrdbourke/pytorch-deep-learning/blob/main/extras/pytorch_2_intro.ipynb\n",
        "* Reference book chapter - https://www.learnpytorch.io/pytorch_2_intro/\n",
        "* PyTorch 2.0 release notes - https://pytorch.org/blog/pytorch-2.0-release/"
      ],
      "metadata": {
        "id": "EETG7Asvo9k9"
      }
    },
    {
      "cell_type": "code",
      "source": [
        "import torch\n",
        "print(torch.__version__)"
      ],
      "metadata": {
        "colab": {
          "base_uri": "https://localhost:8080/"
        },
        "id": "VcE7flgapIU9",
        "outputId": "fbc997b2-5913-4abc-f641-0f8f59ca71fa"
      },
      "execution_count": 1,
      "outputs": [
        {
          "output_type": "stream",
          "name": "stdout",
          "text": [
            "2.3.0+cu121\n"
          ]
        }
      ]
    },
    {
      "cell_type": "markdown",
      "source": [
        "## Quick code examples\n"
      ],
      "metadata": {
        "id": "eTlPyBvnqLaX"
      }
    },
    {
      "cell_type": "markdown",
      "source": [
        "### Before PyTorch 2.0"
      ],
      "metadata": {
        "id": "GPS7Mrc5qzPI"
      }
    },
    {
      "cell_type": "code",
      "source": [
        "import torch\n",
        "import torchvision\n",
        "\n",
        "model = torchvision.models.resnet50()"
      ],
      "metadata": {
        "id": "OvIyQBPBq1z_"
      },
      "execution_count": 2,
      "outputs": []
    },
    {
      "cell_type": "markdown",
      "source": [
        "### After PyTorch 2.0"
      ],
      "metadata": {
        "id": "qzjRqvQXq63U"
      }
    },
    {
      "cell_type": "markdown",
      "source": [
        "Note: some PyTorch 2.0 features may hinder the deployment of models - https://pytorch.org/get-started/pytorch-2.0/#inference-and-export"
      ],
      "metadata": {
        "id": "0QLOfuRlrXcP"
      }
    },
    {
      "cell_type": "code",
      "source": [
        "import torch\n",
        "import torchvision\n",
        "\n",
        "model = torchvision.models.resnet50() # note: this could any model\n",
        "compiled_model = torch.compile(model)\n",
        "\n",
        "\n",
        "### Training code\n",
        "\n",
        "### Testing code"
      ],
      "metadata": {
        "id": "mQf4MB0Fq9sc"
      },
      "execution_count": 3,
      "outputs": []
    },
    {
      "cell_type": "markdown",
      "source": [
        "### 0. Getting setup"
      ],
      "metadata": {
        "id": "WXv_0X_crK8Y"
      }
    },
    {
      "cell_type": "code",
      "source": [
        "import torch\n",
        "\n",
        "# Check PyTorch version\n",
        "pt_version = torch.__version__\n",
        "print(f\"[INFO] Current PyTorch version: {pt_version} (should be 2.x+)\")\n",
        "\n",
        "# Install PyTorch 2.0 if necessary\n",
        "if pt_version.split(\".\")[0] == \"1\": # Check if PyTorch version begins with 1\n",
        "    !pip3 install -U torch torchvision torchaudio --index-url https://download.pytorch.org/whl/cu118\n",
        "    print(\"[INFO] PyTorch 2.x installed, if you're on Google Colab, you may need to restart your runtime.\\\n",
        "          Though as of April 2023, Google Colab comes with PyTorch 2.0 pre-installed.\")\n",
        "    import torch\n",
        "    pt_version = torch.__version__\n",
        "    print(f\"[INFO] Current PyTorch version: {pt_version} (should be 2.x+)\")\n",
        "else:\n",
        "    print(\"[INFO] PyTorch 2.x installed, you'll be able to use the new features.\")"
      ],
      "metadata": {
        "colab": {
          "base_uri": "https://localhost:8080/"
        },
        "id": "XP1mEveWrx0V",
        "outputId": "08852b96-dd06-45ae-f1f4-f9e9516ed810"
      },
      "execution_count": 4,
      "outputs": [
        {
          "output_type": "stream",
          "name": "stdout",
          "text": [
            "[INFO] Current PyTorch version: 2.3.0+cu121 (should be 2.x+)\n",
            "[INFO] PyTorch 2.x installed, you'll be able to use the new features.\n"
          ]
        }
      ]
    },
    {
      "cell_type": "markdown",
      "source": [
        "## 1. Get GPU info\n",
        "\n",
        "Why get GPU info?\n",
        "\n",
        "Because PyTorch 2.0 features (torch.compile()) work best on newer NVIDIA GPUs\n",
        "\n",
        "Well, what's a newer NVIDIA GPU?\n",
        "\n",
        "To find out if your GPU is compatible, see NVIDIA GPU capability scores - https://developer.nvidia.com/cuda-gpus\n",
        "\n",
        "If your GPU has a score of 8.0+, it can leverage *most* if not *all* of the new PyTorch 2.0 features.\n",
        "\n",
        "GPUs under 8.0 can still leverage PyTorch 2.0, however, the improvements may not be as noticiable as those with 8.0+.\n",
        "\n",
        "**Note:** If you're wondering what GPU you should use for deep learning, check out Tim Dettmers blog post \"Which GPU for deep learning?\" - https://timdettmers.com/2023/01/30/which-gpu-for-deep-learning/"
      ],
      "metadata": {
        "id": "3acQlf76sNDD"
      }
    },
    {
      "cell_type": "code",
      "source": [
        "# Make sure we're using a NVIDIA GPU\n",
        "if torch.cuda.is_available():\n",
        "  gpu_info = !nvidia-smi\n",
        "  gpu_info = '\\n'.join(gpu_info)\n",
        "  if gpu_info.find(\"failed\") >= 0:\n",
        "    print(\"Not connected to a GPU, to leverage the best of PyTorch 2.0, you should connect to a GPU.\")\n",
        "\n",
        "  # Get GPU name\n",
        "  gpu_name = !nvidia-smi --query-gpu=gpu_name --format=csv\n",
        "  gpu_name = gpu_name[1]\n",
        "  GPU_NAME = gpu_name.replace(\" \", \"_\") # remove underscores for easier saving\n",
        "  print(f'GPU name: {GPU_NAME}')\n",
        "\n",
        "  # Get GPU capability score\n",
        "  GPU_SCORE = torch.cuda.get_device_capability()\n",
        "  print(f\"GPU capability score: {GPU_SCORE}\")\n",
        "  if GPU_SCORE >= (8, 0):\n",
        "    print(f\"GPU score higher than or equal to (8, 0), PyTorch 2.x speedup features available.\")\n",
        "  else:\n",
        "    print(f\"GPU score lower than (8, 0), PyTorch 2.x speedup features will be limited (PyTorch 2.x speedups happen most on newer GPUs).\")\n",
        "\n",
        "  # Print GPU info\n",
        "  print(f\"GPU information:\\n{gpu_info}\")\n",
        "\n",
        "else:\n",
        "  print(\"PyTorch couldn't find a GPU, to leverage the best of PyTorch 2.0, you should connect to a GPU.\")\n"
      ],
      "metadata": {
        "colab": {
          "base_uri": "https://localhost:8080/"
        },
        "id": "jIru959vsaMH",
        "outputId": "edd28f22-afc2-443a-c225-e05e542396c8"
      },
      "execution_count": 5,
      "outputs": [
        {
          "output_type": "stream",
          "name": "stdout",
          "text": [
            "GPU name: Tesla_T4\n",
            "GPU capability score: (7, 5)\n",
            "GPU score lower than (8, 0), PyTorch 2.x speedup features will be limited (PyTorch 2.x speedups happen most on newer GPUs).\n",
            "GPU information:\n",
            "Sat Jul  6 01:46:42 2024       \n",
            "+---------------------------------------------------------------------------------------+\n",
            "| NVIDIA-SMI 535.104.05             Driver Version: 535.104.05   CUDA Version: 12.2     |\n",
            "|-----------------------------------------+----------------------+----------------------+\n",
            "| GPU  Name                 Persistence-M | Bus-Id        Disp.A | Volatile Uncorr. ECC |\n",
            "| Fan  Temp   Perf          Pwr:Usage/Cap |         Memory-Usage | GPU-Util  Compute M. |\n",
            "|                                         |                      |               MIG M. |\n",
            "|=========================================+======================+======================|\n",
            "|   0  Tesla T4                       Off | 00000000:00:04.0 Off |                    0 |\n",
            "| N/A   38C    P8              11W /  70W |      3MiB / 15360MiB |      0%      Default |\n",
            "|                                         |                      |                  N/A |\n",
            "+-----------------------------------------+----------------------+----------------------+\n",
            "                                                                                         \n",
            "+---------------------------------------------------------------------------------------+\n",
            "| Processes:                                                                            |\n",
            "|  GPU   GI   CI        PID   Type   Process name                            GPU Memory |\n",
            "|        ID   ID                                                             Usage      |\n",
            "|=======================================================================================|\n",
            "|  No running processes found                                                           |\n",
            "+---------------------------------------------------------------------------------------+\n"
          ]
        }
      ]
    },
    {
      "cell_type": "markdown",
      "source": [
        "### 1.1 Globally set devices\n",
        "\n",
        "Previously, we've set the device of our tensors/models using `.to(device)`\n",
        "\n",
        "* `tensor.to(device)`\n",
        "* `model.to(device)`\n",
        "\n",
        "But in PyTorch 2.0, it's possible to set the device with a context manager as well as a global device  - https://pytorch.org/blog/pytorch-2.0-release/#beta-torchset_default_device-and-torchdevice-as-context-manager\n",
        "\n",
        "See the docs - https://pytorch.org/tutorials/recipes/recipes/changing_default_device.html\n"
      ],
      "metadata": {
        "id": "l6YEgmpEuNWP"
      }
    },
    {
      "cell_type": "code",
      "source": [
        "import torch\n",
        "\n",
        "# Set the device\n",
        "device = \"cuda\" if torch.cuda.is_available() else \"cpu\"\n",
        "\n",
        "# Set the device with context manager (requires PyTorch 2.x+)\n",
        "with torch.device(device):\n",
        "  # All tensors of PyTorch objects created in the context manager will be on the target device without using .to()\n",
        "  layer = torch.nn.Linear(20, 30)\n",
        "  print(f\"Layer weights are on device: {layer.weight.device}\")\n",
        "  print(f\"Layer creating data on device: {layer(torch.randn(128, 20)).device}\")"
      ],
      "metadata": {
        "colab": {
          "base_uri": "https://localhost:8080/"
        },
        "id": "8DJI__LCul_h",
        "outputId": "0ddabee1-082b-4d5a-ad2d-45d2e38281ca"
      },
      "execution_count": 6,
      "outputs": [
        {
          "output_type": "stream",
          "name": "stdout",
          "text": [
            "Layer weights are on device: cuda:0\n",
            "Layer creating data on device: cuda:0\n"
          ]
        }
      ]
    },
    {
      "cell_type": "code",
      "source": [
        "import torch\n",
        "\n",
        "# Set the device\n",
        "device = \"cuda\" if torch.cuda.is_available() else \"cpu\"\n",
        "\n",
        "# Set the device globbaly (requires pytorch 2.x+)\n",
        "torch.set_default_device(device)\n",
        "\n",
        "# All tensors of PyTorch objects created in from here on out will be on the target device without using .to()\n",
        "layer = torch.nn.Linear(20, 30)\n",
        "print(f\"Layer weights are on device: {layer.weight.device}\")\n",
        "print(f\"Layer creating data on device: {layer(torch.randn(128, 20)).device}\")"
      ],
      "metadata": {
        "colab": {
          "base_uri": "https://localhost:8080/"
        },
        "id": "dEHHdk-WxVgE",
        "outputId": "45ec78eb-266a-413b-970a-7431df4fc670"
      },
      "execution_count": 7,
      "outputs": [
        {
          "output_type": "stream",
          "name": "stdout",
          "text": [
            "Layer weights are on device: cuda:0\n",
            "Layer creating data on device: cuda:0\n"
          ]
        }
      ]
    },
    {
      "cell_type": "code",
      "source": [
        "import torch\n",
        "\n",
        "# Set the device globbaly (requires pytorch 2.x+)\n",
        "torch.set_default_device(\"cpu\")\n",
        "\n",
        "# All tensors of PyTorch objects created in from here on out will be on the target device without using .to()\n",
        "layer = torch.nn.Linear(20, 30)\n",
        "print(f\"Layer weights are on device: {layer.weight.device}\")\n",
        "print(f\"Layer creating data on device: {layer(torch.randn(128, 20)).device}\")"
      ],
      "metadata": {
        "colab": {
          "base_uri": "https://localhost:8080/"
        },
        "id": "7g3pa8NYx1Wl",
        "outputId": "77ff1c49-75b6-4c12-c1d9-7029ae2dcb32"
      },
      "execution_count": 8,
      "outputs": [
        {
          "output_type": "stream",
          "name": "stdout",
          "text": [
            "Layer weights are on device: cpu\n",
            "Layer creating data on device: cpu\n"
          ]
        }
      ]
    },
    {
      "cell_type": "markdown",
      "source": [
        "## 2. Setting up the experiments\n",
        "\n",
        "Time to test speed!\n",
        "\n",
        "To keep things simple, we'll run 4 experiments:\n",
        "\n",
        "* Model: ResNet50 from torchvision\n",
        "* Data: CIFAR10 from torchvision\n",
        "* Epochs: 5 (single run) and 3x5 (multi run)\n",
        "* Batch size: 128 (note: you may want to change this depending on the amount of memory your GPU has, this tutorial focuses on an A100)\n",
        "* Image size: 224 (note: you may want to adjust this given the amount of GPU memory you have)"
      ],
      "metadata": {
        "id": "tRN7jKpRx-vh"
      }
    },
    {
      "cell_type": "code",
      "source": [
        "import torch\n",
        "import torchvision\n",
        "\n",
        "print(f\"PyTorch version: {torch.__version__}\")\n",
        "print(f\"TorchVision version: {torchvision.__version__}\")\n",
        "\n",
        "# Set the target device\n",
        "device = \"cuda\" if torch.cuda.is_available() else \"cpu\"\n",
        "\n",
        "print(f\"Using device: {device}\")"
      ],
      "metadata": {
        "id": "kLsl6ICryVK8"
      },
      "execution_count": null,
      "outputs": []
    },
    {
      "cell_type": "markdown",
      "source": [
        "### 2.1 Create model and transforms\n",
        "\n",
        "* ResNet50 form PyTorch - https://pytorch.org/vision/stable/models/generated/torchvision.models.resnet50.html#torchvision.models.ResNet50_Weights"
      ],
      "metadata": {
        "id": "LPgRc86689lm"
      }
    },
    {
      "cell_type": "code",
      "source": [
        "# Create model weights and transforms\n",
        "model_weights = torchvision.models.ResNet50_Weights.IMAGENET1K_V2 # .DEFAULT also works here\n",
        "transforms = model_weights.transforms()\n",
        "\n",
        "transforms"
      ],
      "metadata": {
        "id": "9saLKFbx95cK"
      },
      "execution_count": null,
      "outputs": []
    },
    {
      "cell_type": "code",
      "source": [
        "# Create model\n",
        "model = torchvision.models.resnet50(weights=model_weights)\n",
        "model"
      ],
      "metadata": {
        "id": "iqDJV8CN-OeL"
      },
      "execution_count": null,
      "outputs": []
    },
    {
      "cell_type": "code",
      "source": [
        "# Count the number of parameters in the model\n",
        "total_params = sum(\n",
        "    param.numel() for param in model.parameters() # count all parameters\n",
        "    # param.numel() for param in model.parameters() if param.requires_grad = True # only count parameters that are trainable\n",
        ")\n",
        "total_params"
      ],
      "metadata": {
        "id": "LU4zflXH-XND"
      },
      "execution_count": null,
      "outputs": []
    },
    {
      "cell_type": "markdown",
      "source": [
        "**Note:** PyTorch 2.0 *relative* speedups will be most noticeable when as much of the GPU as possible is being used. This means a larger model (more trainable parameters) may take longer to train on the whole but relatively faster E.g. a model with 1M parameters may take -10 minutes to train but a model with 25M parameters may take -20 minutes to train."
      ],
      "metadata": {
        "id": "tTMdz3c3-vLG"
      }
    },
    {
      "cell_type": "code",
      "source": [
        "def create_model(num_classes=10):\n",
        "  \"\"\"\n",
        "  Creates a resnet50 model with transforms and returns them both.\n",
        "  \"\"\"\n",
        "  model_weights = torchvision.models.ResNet50_Weights.DEFAULT\n",
        "  transforms = model_weights.transforms()\n",
        "  model = torchvision.models.resnet50(weights=model_weights)\n",
        "\n",
        "  # Adjust the head layer to suit our number of classes\n",
        "  model.fc = torch.nn.Linear(in_features=2048,\n",
        "                             out_features=num_classes)\n",
        "  return model, transforms\n",
        "\n",
        "model, transforms = create_model()\n",
        "transforms"
      ],
      "metadata": {
        "id": "4JRZnBeN_drr"
      },
      "execution_count": null,
      "outputs": []
    },
    {
      "cell_type": "markdown",
      "source": [
        "### 2.2 Speedups are most noticeable when a large portion of the GPU is being used\n",
        "\n",
        "Since modern GPUs are so *fast* at performing operations, you will often notice the majority of *relative* speedups when as much data as possible is on the GPU.\n",
        "\n",
        "In practice, you generally want to use as much of your GPU memory as possible.\n",
        "\n",
        "* Increasing the batch size - we've been using batch size 32 but for GPUs with a larger memory capacity you'll generally want to use as large as possible, e.g. 128, 256, 512, etc.\n",
        "* Increasing data size - for example instead of using images that are 32x32, use 224x224 or 336x336, also you could use an increased embedding size for your data\n",
        "* Increase the model size - for example instead of using a model with 1M parameters, use a model with 10M parameters\n",
        "* Decreasing data transfer - since bandwidth costs (transferring data) will slow down a GPU (because it wants to compute on data)\n",
        "\n",
        "As a result of doing the above, your relative speedups should be better.\n",
        "\n",
        "E.g. overall training time may take longer but not linearly.\n",
        "\n",
        "Resource for learning how to improve PyTorch model speed - https://sebastianraschka.com/blog/2023/pytorch-faster.html\n",
        "\n",
        "**Note:** This concept of using as much data on the GPU as possible isn't restricted specifically to PyTorch 2.0, it applies to all versions of PyTorch and basically all models that train on GPUs."
      ],
      "metadata": {
        "id": "5cV5Z82EAbt6"
      }
    },
    {
      "cell_type": "markdown",
      "source": [
        "### 2.3 Checking the memory limits of our GPU"
      ],
      "metadata": {
        "id": "-L_zmHaOI1MA"
      }
    },
    {
      "cell_type": "markdown",
      "source": [
        "Can do so using `torch.cuda` - https://pytorch.org/docs/stable/generated/torch.cuda.mem_get_info.html#torch.cuda.mem_get_info"
      ],
      "metadata": {
        "id": "US1dJ4X2JsQo"
      }
    },
    {
      "cell_type": "code",
      "source": [
        "# Check available GPU memory and total GPU memory\n",
        "total_free_gpu_memory, total_gpu_memory = torch.cuda.mem_get_info()\n",
        "print(f\"Total free GPU memory: {round(total_free_gpu_memory * 1e-9, 3)} GB\")\n",
        "print(f\"Total GPU memory: {round(total_gpu_memory * 1e-9, 3)} GB\")\n"
      ],
      "metadata": {
        "id": "g1G5xgekI5NX"
      },
      "execution_count": null,
      "outputs": []
    },
    {
      "cell_type": "markdown",
      "source": [
        "* If the GPU has 16GB+ of free memory, set batch size to 128\n",
        "* If the GPU has less than 16GB of free, set batch size to 32"
      ],
      "metadata": {
        "id": "aJxFUie6J-iU"
      }
    },
    {
      "cell_type": "code",
      "source": [
        "# Set batch size depending on amount of GPU memory\n",
        "total_free_gpu_memory_gb = round(total_free_gpu_memory * 1e-9, 3)\n",
        "if total_free_gpu_memory_gb >= 16:\n",
        "  BATCH_SIZE = 128 # Note: you could experiment with higher values here if you like.\n",
        "  IMAGE_SIZE = 224\n",
        "  print(f\"GPU memory available is {total_free_gpu_memory_gb} GB, using batch size of {BATCH_SIZE} and image size {IMAGE_SIZE}\")\n",
        "else:\n",
        "  BATCH_SIZE = 32\n",
        "  IMAGE_SIZE = 128\n",
        "  print(f\"GPU memory available is {total_free_gpu_memory_gb} GB, using batch size of {BATCH_SIZE} and image size {IMAGE_SIZE}\")\n",
        ""
      ],
      "metadata": {
        "id": "FglGpW4IKO_y"
      },
      "execution_count": null,
      "outputs": []
    },
    {
      "cell_type": "code",
      "source": [
        "transforms.crop_size = 224\n",
        "transforms.resize_size = 224\n",
        "print(f\"Updated data transforms:\\n{transforms}\")"
      ],
      "metadata": {
        "id": "aYJ0bQPyKoqs"
      },
      "execution_count": null,
      "outputs": []
    },
    {
      "cell_type": "markdown",
      "source": [
        "### 2.4 More potential speedups with TF32\n",
        "\n",
        "TF32 = TensorFloat32\n",
        "\n",
        "TensorFloat32 = a datatype that bridges Float32 and Float16\n",
        "\n",
        "Float32 = a number is represented by 32 bytes\n",
        "\n",
        "Float16 = a number is represented by 16 bytes\n",
        "\n",
        "See more on precision in computing: https://en.wikipedia.org/wiki/Precision_(computer_science)\n",
        "\n",
        "What we want is:\n",
        "1. Fast model training\n",
        "2. Accurate model training\n",
        "\n",
        "TensorFloat32 = a datatype from NVIDIA which combines float32 and float16\n",
        "\n",
        "TF32 is available on Ampere GPUs+"
      ],
      "metadata": {
        "id": "bafbv1kwK84i"
      }
    },
    {
      "cell_type": "code",
      "source": [
        "if GPU_SCORE >= (8, 0): # check if GPU is compatiable with TF32\n",
        "  print(f\"[INFO] Using GPU with score: {GPU_SCORE}, enabling TensorFloat32\")\n",
        "  torch.backends.cuda.matmul.allow_tf32 = True\n",
        "else:\n",
        "  print(f\"[INFO] Using GPU with score: {GPU_SCORE}, TensorFloat32 not available\")\n",
        "  torch.backends.cuda.matmul.allow_tf32 = False"
      ],
      "metadata": {
        "id": "G7-1pPSoLLy8"
      },
      "execution_count": null,
      "outputs": []
    },
    {
      "cell_type": "code",
      "source": [
        "## 2.5 Preparing datasets\n",
        "\n",
        "As before, we discussed we're going to use CIFAR10.\n",
        "\n",
        "Homepage - https://www.cs.toronto.edu/~kriz/cifar.html\n",
        "\n",
        "We can download the dataset from torchvision - https://pytorch.org/vision/main/generated/torchvision.datasets.CIFAR10.html"
      ],
      "metadata": {
        "id": "PVHYytPmPVaG"
      },
      "execution_count": null,
      "outputs": []
    }
  ]
}